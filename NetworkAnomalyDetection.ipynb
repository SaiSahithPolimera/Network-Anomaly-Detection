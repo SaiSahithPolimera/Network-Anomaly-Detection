{
 "cells": [
  {
   "cell_type": "markdown",
   "id": "b0fe6241-0f5c-4cd3-9822-92a8387d37c3",
   "metadata": {},
   "source": [
    "# Random Forest Classifier for Anomaly Detection\n",
    "\n",
    "This notebook demonstrates how to use a **Random Forest Classifier** for anomaly detection in a timestamp based dataset. We will load the data, preprocess it, train a machine learning model, and evaluate its performance.\n",
    "\n",
   ]
  },
  {
   "cell_type": "markdown",
   "id": "92696f9c-71b9-49df-9765-c8be8ff4bea7",
   "metadata": {},
   "source": [
    "\n",
    "# 1. Importing Required Libraries\n",
    "\n",
    "This block imports necessary libraries for data manipulation, model training, evaluation, and visualization.\n",
    "\n"
   ]
  },
  {
   "cell_type": "code",
   "execution_count": 8,
   "id": "b998c228-1f40-4e3b-921f-5aa6896f2d6c",
   "metadata": {},
   "outputs": [],
   "source": [
    "import pandas as pd\n",
    "import numpy as np\n",
    "import matplotlib.pyplot as plt\n",
    "from sklearn.ensemble import RandomForestClassifier\n",
    "from sklearn.preprocessing import StandardScaler\n",
    "from sklearn.metrics import classification_report, confusion_matrix, accuracy_score"
   ]
  },
  {
   "cell_type": "markdown",
   "id": "3486874d-7827-44fe-9a3b-30509aa6d296",
   "metadata": {},
   "source": [
    "# 1. Load and Preprocess the Training and Testing Data\n",
    "This block reads the CSV files for training and test datasets, converts timestamps into datetime objects, and sets the datetime as the index for time series analysis.\n"
   ]
  },
  {
   "cell_type": "code",
   "execution_count": 9,
   "id": "f1b21c3d-7eb8-49f1-aac9-08d0048facb7",
   "metadata": {},
   "outputs": [],
   "source": [
    "train = pd.read_csv('data/train.csv')\n",
    "train['datetime'] = pd.to_datetime(train['timestamp'], unit='s')\n",
    "train.set_index('datetime', inplace=True)\n",
    "\n",
    "test = pd.read_csv('data/test.csv')\n",
    "test['datetime'] = pd.to_datetime(test['timestamp'], unit='s')\n",
    "test.set_index('datetime', inplace=True)"
   ]
  },
  {
   "cell_type": "markdown",
   "id": "5f1ba648-8fef-4520-8bdb-2565fa018a84",
   "metadata": {},
   "source": [
    "# 2. Scale the Features for Model Training\n",
    "In this block, the `StandardScaler` is applied to the features ('value') to normalize the data. This step ensures that the model can train efficiently by scaling all features to have zero mean and unit variance.\n"
   ]
  },
  {
   "cell_type": "code",
   "execution_count": 10,
   "id": "02c14d33-d34e-4635-8a54-0985eb37d8a5",
   "metadata": {},
   "outputs": [],
   "source": [
    "scaler = StandardScaler()\n",
    "X_train = scaler.fit_transform(train[['value']])\n",
    "X_test = scaler.transform(test[['value']])"
   ]
  },
  {
   "cell_type": "markdown",
   "id": "0274d1de-b403-470d-80b1-04b5699fc766",
   "metadata": {},
   "source": [
    "# 3. Extract the Target Labels (Anomaly Column)\n",
    "Here, the target variable 'is_anomaly' is extracted from the training and test datasets. If the column exists, it is used for model training and evaluation.\n"
   ]
  },
  {
   "cell_type": "code",
   "execution_count": 11,
   "id": "1f511637-d559-4abe-8115-2c2200dca47c",
   "metadata": {},
   "outputs": [],
   "source": [
    "y_train = train['is_anomaly'] if 'is_anomaly' in train.columns else None\n",
    "y_test = test['is_anomaly'] if 'is_anomaly' in test.columns else None"
   ]
  },
  {
   "cell_type": "markdown",
   "id": "f868d663-744b-4cdb-b536-fe4d011a7836",
   "metadata": {},
   "source": [
    "# 4. Train the Random Forest Model\n",
    "This section initializes the `RandomForestClassifier` with 100 estimators and fits it on the scaled training data to learn the relationship between the features and target anomaly labels.\n"
   ]
  },
  {
   "cell_type": "code",
   "execution_count": 12,
   "id": "184419c3-6e85-4115-be64-28dbe0dae956",
   "metadata": {},
   "outputs": [
    {
     "data": {
      "text/html": [
       "<style>#sk-container-id-1 {\n",
       "  /* Definition of color scheme common for light and dark mode */\n",
       "  --sklearn-color-text: black;\n",
       "  --sklearn-color-line: gray;\n",
       "  /* Definition of color scheme for unfitted estimators */\n",
       "  --sklearn-color-unfitted-level-0: #fff5e6;\n",
       "  --sklearn-color-unfitted-level-1: #f6e4d2;\n",
       "  --sklearn-color-unfitted-level-2: #ffe0b3;\n",
       "  --sklearn-color-unfitted-level-3: chocolate;\n",
       "  /* Definition of color scheme for fitted estimators */\n",
       "  --sklearn-color-fitted-level-0: #f0f8ff;\n",
       "  --sklearn-color-fitted-level-1: #d4ebff;\n",
       "  --sklearn-color-fitted-level-2: #b3dbfd;\n",
       "  --sklearn-color-fitted-level-3: cornflowerblue;\n",
       "\n",
       "  /* Specific color for light theme */\n",
       "  --sklearn-color-text-on-default-background: var(--sg-text-color, var(--theme-code-foreground, var(--jp-content-font-color1, black)));\n",
       "  --sklearn-color-background: var(--sg-background-color, var(--theme-background, var(--jp-layout-color0, white)));\n",
       "  --sklearn-color-border-box: var(--sg-text-color, var(--theme-code-foreground, var(--jp-content-font-color1, black)));\n",
       "  --sklearn-color-icon: #696969;\n",
       "\n",
       "  @media (prefers-color-scheme: dark) {\n",
       "    /* Redefinition of color scheme for dark theme */\n",
       "    --sklearn-color-text-on-default-background: var(--sg-text-color, var(--theme-code-foreground, var(--jp-content-font-color1, white)));\n",
       "    --sklearn-color-background: var(--sg-background-color, var(--theme-background, var(--jp-layout-color0, #111)));\n",
       "    --sklearn-color-border-box: var(--sg-text-color, var(--theme-code-foreground, var(--jp-content-font-color1, white)));\n",
       "    --sklearn-color-icon: #878787;\n",
       "  }\n",
       "}\n",
       "\n",
       "#sk-container-id-1 {\n",
       "  color: var(--sklearn-color-text);\n",
       "}\n",
       "\n",
       "#sk-container-id-1 pre {\n",
       "  padding: 0;\n",
       "}\n",
       "\n",
       "#sk-container-id-1 input.sk-hidden--visually {\n",
       "  border: 0;\n",
       "  clip: rect(1px 1px 1px 1px);\n",
       "  clip: rect(1px, 1px, 1px, 1px);\n",
       "  height: 1px;\n",
       "  margin: -1px;\n",
       "  overflow: hidden;\n",
       "  padding: 0;\n",
       "  position: absolute;\n",
       "  width: 1px;\n",
       "}\n",
       "\n",
       "#sk-container-id-1 div.sk-dashed-wrapped {\n",
       "  border: 1px dashed var(--sklearn-color-line);\n",
       "  margin: 0 0.4em 0.5em 0.4em;\n",
       "  box-sizing: border-box;\n",
       "  padding-bottom: 0.4em;\n",
       "  background-color: var(--sklearn-color-background);\n",
       "}\n",
       "\n",
       "#sk-container-id-1 div.sk-container {\n",
       "  /* jupyter's `normalize.less` sets `[hidden] { display: none; }`\n",
       "     but bootstrap.min.css set `[hidden] { display: none !important; }`\n",
       "     so we also need the `!important` here to be able to override the\n",
       "     default hidden behavior on the sphinx rendered scikit-learn.org.\n",
       "     See: https://github.com/scikit-learn/scikit-learn/issues/21755 */\n",
       "  display: inline-block !important;\n",
       "  position: relative;\n",
       "}\n",
       "\n",
       "#sk-container-id-1 div.sk-text-repr-fallback {\n",
       "  display: none;\n",
       "}\n",
       "\n",
       "div.sk-parallel-item,\n",
       "div.sk-serial,\n",
       "div.sk-item {\n",
       "  /* draw centered vertical line to link estimators */\n",
       "  background-image: linear-gradient(var(--sklearn-color-text-on-default-background), var(--sklearn-color-text-on-default-background));\n",
       "  background-size: 2px 100%;\n",
       "  background-repeat: no-repeat;\n",
       "  background-position: center center;\n",
       "}\n",
       "\n",
       "/* Parallel-specific style estimator block */\n",
       "\n",
       "#sk-container-id-1 div.sk-parallel-item::after {\n",
       "  content: \"\";\n",
       "  width: 100%;\n",
       "  border-bottom: 2px solid var(--sklearn-color-text-on-default-background);\n",
       "  flex-grow: 1;\n",
       "}\n",
       "\n",
       "#sk-container-id-1 div.sk-parallel {\n",
       "  display: flex;\n",
       "  align-items: stretch;\n",
       "  justify-content: center;\n",
       "  background-color: var(--sklearn-color-background);\n",
       "  position: relative;\n",
       "}\n",
       "\n",
       "#sk-container-id-1 div.sk-parallel-item {\n",
       "  display: flex;\n",
       "  flex-direction: column;\n",
       "}\n",
       "\n",
       "#sk-container-id-1 div.sk-parallel-item:first-child::after {\n",
       "  align-self: flex-end;\n",
       "  width: 50%;\n",
       "}\n",
       "\n",
       "#sk-container-id-1 div.sk-parallel-item:last-child::after {\n",
       "  align-self: flex-start;\n",
       "  width: 50%;\n",
       "}\n",
       "\n",
       "#sk-container-id-1 div.sk-parallel-item:only-child::after {\n",
       "  width: 0;\n",
       "}\n",
       "\n",
       "/* Serial-specific style estimator block */\n",
       "\n",
       "#sk-container-id-1 div.sk-serial {\n",
       "  display: flex;\n",
       "  flex-direction: column;\n",
       "  align-items: center;\n",
       "  background-color: var(--sklearn-color-background);\n",
       "  padding-right: 1em;\n",
       "  padding-left: 1em;\n",
       "}\n",
       "\n",
       "\n",
       "/* Toggleable style: style used for estimator/Pipeline/ColumnTransformer box that is\n",
       "clickable and can be expanded/collapsed.\n",
       "- Pipeline and ColumnTransformer use this feature and define the default style\n",
       "- Estimators will overwrite some part of the style using the `sk-estimator` class\n",
       "*/\n",
       "\n",
       "/* Pipeline and ColumnTransformer style (default) */\n",
       "\n",
       "#sk-container-id-1 div.sk-toggleable {\n",
       "  /* Default theme specific background. It is overwritten whether we have a\n",
       "  specific estimator or a Pipeline/ColumnTransformer */\n",
       "  background-color: var(--sklearn-color-background);\n",
       "}\n",
       "\n",
       "/* Toggleable label */\n",
       "#sk-container-id-1 label.sk-toggleable__label {\n",
       "  cursor: pointer;\n",
       "  display: block;\n",
       "  width: 100%;\n",
       "  margin-bottom: 0;\n",
       "  padding: 0.5em;\n",
       "  box-sizing: border-box;\n",
       "  text-align: center;\n",
       "}\n",
       "\n",
       "#sk-container-id-1 label.sk-toggleable__label-arrow:before {\n",
       "  /* Arrow on the left of the label */\n",
       "  content: \"▸\";\n",
       "  float: left;\n",
       "  margin-right: 0.25em;\n",
       "  color: var(--sklearn-color-icon);\n",
       "}\n",
       "\n",
       "#sk-container-id-1 label.sk-toggleable__label-arrow:hover:before {\n",
       "  color: var(--sklearn-color-text);\n",
       "}\n",
       "\n",
       "/* Toggleable content - dropdown */\n",
       "\n",
       "#sk-container-id-1 div.sk-toggleable__content {\n",
       "  max-height: 0;\n",
       "  max-width: 0;\n",
       "  overflow: hidden;\n",
       "  text-align: left;\n",
       "  /* unfitted */\n",
       "  background-color: var(--sklearn-color-unfitted-level-0);\n",
       "}\n",
       "\n",
       "#sk-container-id-1 div.sk-toggleable__content.fitted {\n",
       "  /* fitted */\n",
       "  background-color: var(--sklearn-color-fitted-level-0);\n",
       "}\n",
       "\n",
       "#sk-container-id-1 div.sk-toggleable__content pre {\n",
       "  margin: 0.2em;\n",
       "  border-radius: 0.25em;\n",
       "  color: var(--sklearn-color-text);\n",
       "  /* unfitted */\n",
       "  background-color: var(--sklearn-color-unfitted-level-0);\n",
       "}\n",
       "\n",
       "#sk-container-id-1 div.sk-toggleable__content.fitted pre {\n",
       "  /* unfitted */\n",
       "  background-color: var(--sklearn-color-fitted-level-0);\n",
       "}\n",
       "\n",
       "#sk-container-id-1 input.sk-toggleable__control:checked~div.sk-toggleable__content {\n",
       "  /* Expand drop-down */\n",
       "  max-height: 200px;\n",
       "  max-width: 100%;\n",
       "  overflow: auto;\n",
       "}\n",
       "\n",
       "#sk-container-id-1 input.sk-toggleable__control:checked~label.sk-toggleable__label-arrow:before {\n",
       "  content: \"▾\";\n",
       "}\n",
       "\n",
       "/* Pipeline/ColumnTransformer-specific style */\n",
       "\n",
       "#sk-container-id-1 div.sk-label input.sk-toggleable__control:checked~label.sk-toggleable__label {\n",
       "  color: var(--sklearn-color-text);\n",
       "  background-color: var(--sklearn-color-unfitted-level-2);\n",
       "}\n",
       "\n",
       "#sk-container-id-1 div.sk-label.fitted input.sk-toggleable__control:checked~label.sk-toggleable__label {\n",
       "  background-color: var(--sklearn-color-fitted-level-2);\n",
       "}\n",
       "\n",
       "/* Estimator-specific style */\n",
       "\n",
       "/* Colorize estimator box */\n",
       "#sk-container-id-1 div.sk-estimator input.sk-toggleable__control:checked~label.sk-toggleable__label {\n",
       "  /* unfitted */\n",
       "  background-color: var(--sklearn-color-unfitted-level-2);\n",
       "}\n",
       "\n",
       "#sk-container-id-1 div.sk-estimator.fitted input.sk-toggleable__control:checked~label.sk-toggleable__label {\n",
       "  /* fitted */\n",
       "  background-color: var(--sklearn-color-fitted-level-2);\n",
       "}\n",
       "\n",
       "#sk-container-id-1 div.sk-label label.sk-toggleable__label,\n",
       "#sk-container-id-1 div.sk-label label {\n",
       "  /* The background is the default theme color */\n",
       "  color: var(--sklearn-color-text-on-default-background);\n",
       "}\n",
       "\n",
       "/* On hover, darken the color of the background */\n",
       "#sk-container-id-1 div.sk-label:hover label.sk-toggleable__label {\n",
       "  color: var(--sklearn-color-text);\n",
       "  background-color: var(--sklearn-color-unfitted-level-2);\n",
       "}\n",
       "\n",
       "/* Label box, darken color on hover, fitted */\n",
       "#sk-container-id-1 div.sk-label.fitted:hover label.sk-toggleable__label.fitted {\n",
       "  color: var(--sklearn-color-text);\n",
       "  background-color: var(--sklearn-color-fitted-level-2);\n",
       "}\n",
       "\n",
       "/* Estimator label */\n",
       "\n",
       "#sk-container-id-1 div.sk-label label {\n",
       "  font-family: monospace;\n",
       "  font-weight: bold;\n",
       "  display: inline-block;\n",
       "  line-height: 1.2em;\n",
       "}\n",
       "\n",
       "#sk-container-id-1 div.sk-label-container {\n",
       "  text-align: center;\n",
       "}\n",
       "\n",
       "/* Estimator-specific */\n",
       "#sk-container-id-1 div.sk-estimator {\n",
       "  font-family: monospace;\n",
       "  border: 1px dotted var(--sklearn-color-border-box);\n",
       "  border-radius: 0.25em;\n",
       "  box-sizing: border-box;\n",
       "  margin-bottom: 0.5em;\n",
       "  /* unfitted */\n",
       "  background-color: var(--sklearn-color-unfitted-level-0);\n",
       "}\n",
       "\n",
       "#sk-container-id-1 div.sk-estimator.fitted {\n",
       "  /* fitted */\n",
       "  background-color: var(--sklearn-color-fitted-level-0);\n",
       "}\n",
       "\n",
       "/* on hover */\n",
       "#sk-container-id-1 div.sk-estimator:hover {\n",
       "  /* unfitted */\n",
       "  background-color: var(--sklearn-color-unfitted-level-2);\n",
       "}\n",
       "\n",
       "#sk-container-id-1 div.sk-estimator.fitted:hover {\n",
       "  /* fitted */\n",
       "  background-color: var(--sklearn-color-fitted-level-2);\n",
       "}\n",
       "\n",
       "/* Specification for estimator info (e.g. \"i\" and \"?\") */\n",
       "\n",
       "/* Common style for \"i\" and \"?\" */\n",
       "\n",
       ".sk-estimator-doc-link,\n",
       "a:link.sk-estimator-doc-link,\n",
       "a:visited.sk-estimator-doc-link {\n",
       "  float: right;\n",
       "  font-size: smaller;\n",
       "  line-height: 1em;\n",
       "  font-family: monospace;\n",
       "  background-color: var(--sklearn-color-background);\n",
       "  border-radius: 1em;\n",
       "  height: 1em;\n",
       "  width: 1em;\n",
       "  text-decoration: none !important;\n",
       "  margin-left: 1ex;\n",
       "  /* unfitted */\n",
       "  border: var(--sklearn-color-unfitted-level-1) 1pt solid;\n",
       "  color: var(--sklearn-color-unfitted-level-1);\n",
       "}\n",
       "\n",
       ".sk-estimator-doc-link.fitted,\n",
       "a:link.sk-estimator-doc-link.fitted,\n",
       "a:visited.sk-estimator-doc-link.fitted {\n",
       "  /* fitted */\n",
       "  border: var(--sklearn-color-fitted-level-1) 1pt solid;\n",
       "  color: var(--sklearn-color-fitted-level-1);\n",
       "}\n",
       "\n",
       "/* On hover */\n",
       "div.sk-estimator:hover .sk-estimator-doc-link:hover,\n",
       ".sk-estimator-doc-link:hover,\n",
       "div.sk-label-container:hover .sk-estimator-doc-link:hover,\n",
       ".sk-estimator-doc-link:hover {\n",
       "  /* unfitted */\n",
       "  background-color: var(--sklearn-color-unfitted-level-3);\n",
       "  color: var(--sklearn-color-background);\n",
       "  text-decoration: none;\n",
       "}\n",
       "\n",
       "div.sk-estimator.fitted:hover .sk-estimator-doc-link.fitted:hover,\n",
       ".sk-estimator-doc-link.fitted:hover,\n",
       "div.sk-label-container:hover .sk-estimator-doc-link.fitted:hover,\n",
       ".sk-estimator-doc-link.fitted:hover {\n",
       "  /* fitted */\n",
       "  background-color: var(--sklearn-color-fitted-level-3);\n",
       "  color: var(--sklearn-color-background);\n",
       "  text-decoration: none;\n",
       "}\n",
       "\n",
       "/* Span, style for the box shown on hovering the info icon */\n",
       ".sk-estimator-doc-link span {\n",
       "  display: none;\n",
       "  z-index: 9999;\n",
       "  position: relative;\n",
       "  font-weight: normal;\n",
       "  right: .2ex;\n",
       "  padding: .5ex;\n",
       "  margin: .5ex;\n",
       "  width: min-content;\n",
       "  min-width: 20ex;\n",
       "  max-width: 50ex;\n",
       "  color: var(--sklearn-color-text);\n",
       "  box-shadow: 2pt 2pt 4pt #999;\n",
       "  /* unfitted */\n",
       "  background: var(--sklearn-color-unfitted-level-0);\n",
       "  border: .5pt solid var(--sklearn-color-unfitted-level-3);\n",
       "}\n",
       "\n",
       ".sk-estimator-doc-link.fitted span {\n",
       "  /* fitted */\n",
       "  background: var(--sklearn-color-fitted-level-0);\n",
       "  border: var(--sklearn-color-fitted-level-3);\n",
       "}\n",
       "\n",
       ".sk-estimator-doc-link:hover span {\n",
       "  display: block;\n",
       "}\n",
       "\n",
       "/* \"?\"-specific style due to the `<a>` HTML tag */\n",
       "\n",
       "#sk-container-id-1 a.estimator_doc_link {\n",
       "  float: right;\n",
       "  font-size: 1rem;\n",
       "  line-height: 1em;\n",
       "  font-family: monospace;\n",
       "  background-color: var(--sklearn-color-background);\n",
       "  border-radius: 1rem;\n",
       "  height: 1rem;\n",
       "  width: 1rem;\n",
       "  text-decoration: none;\n",
       "  /* unfitted */\n",
       "  color: var(--sklearn-color-unfitted-level-1);\n",
       "  border: var(--sklearn-color-unfitted-level-1) 1pt solid;\n",
       "}\n",
       "\n",
       "#sk-container-id-1 a.estimator_doc_link.fitted {\n",
       "  /* fitted */\n",
       "  border: var(--sklearn-color-fitted-level-1) 1pt solid;\n",
       "  color: var(--sklearn-color-fitted-level-1);\n",
       "}\n",
       "\n",
       "/* On hover */\n",
       "#sk-container-id-1 a.estimator_doc_link:hover {\n",
       "  /* unfitted */\n",
       "  background-color: var(--sklearn-color-unfitted-level-3);\n",
       "  color: var(--sklearn-color-background);\n",
       "  text-decoration: none;\n",
       "}\n",
       "\n",
       "#sk-container-id-1 a.estimator_doc_link.fitted:hover {\n",
       "  /* fitted */\n",
       "  background-color: var(--sklearn-color-fitted-level-3);\n",
       "}\n",
       "</style><div id=\"sk-container-id-1\" class=\"sk-top-container\"><div class=\"sk-text-repr-fallback\"><pre>RandomForestClassifier(random_state=42)</pre><b>In a Jupyter environment, please rerun this cell to show the HTML representation or trust the notebook. <br />On GitHub, the HTML representation is unable to render, please try loading this page with nbviewer.org.</b></div><div class=\"sk-container\" hidden><div class=\"sk-item\"><div class=\"sk-estimator fitted sk-toggleable\"><input class=\"sk-toggleable__control sk-hidden--visually\" id=\"sk-estimator-id-1\" type=\"checkbox\" checked><label for=\"sk-estimator-id-1\" class=\"sk-toggleable__label fitted sk-toggleable__label-arrow fitted\">&nbsp;&nbsp;RandomForestClassifier<a class=\"sk-estimator-doc-link fitted\" rel=\"noreferrer\" target=\"_blank\" href=\"https://scikit-learn.org/1.4/modules/generated/sklearn.ensemble.RandomForestClassifier.html\">?<span>Documentation for RandomForestClassifier</span></a><span class=\"sk-estimator-doc-link fitted\">i<span>Fitted</span></span></label><div class=\"sk-toggleable__content fitted\"><pre>RandomForestClassifier(random_state=42)</pre></div> </div></div></div></div>"
      ],
      "text/plain": [
       "RandomForestClassifier(random_state=42)"
      ]
     },
     "execution_count": 12,
     "metadata": {},
     "output_type": "execute_result"
    }
   ],
   "source": [
    "rf_model = RandomForestClassifier(n_estimators=100, random_state=42)\n",
    "rf_model.fit(X_train, y_train)"
   ]
  },
  {
   "cell_type": "markdown",
   "id": "0a9655fd-d81c-4ca2-9adc-d6b8eec5cee7",
   "metadata": {},
   "source": [
    "# 5. Predict Anomalies for Training and Test Data\n",
    "In this block, the trained Random Forest model is used to predict anomalies on both the training and test datasets. The predicted anomalies are stored in new columns.\n"
   ]
  },
  {
   "cell_type": "code",
   "execution_count": 51,
   "id": "5a909553-f5ab-4850-951e-dc3002f7eef4",
   "metadata": {},
   "outputs": [],
   "source": [
    "train['predicted_anomaly'] = rf_model.predict(X_train)\n",
    "test['predicted_anomaly'] = rf_model.predict(X_test)"
   ]
  },
  {
   "cell_type": "markdown",
   "id": "78e5a058-076b-44ba-8afb-ec1c03dc9a14",
   "metadata": {},
   "source": [
    "# 6. Evaluate the Model on Training Data\n",
    "This block evaluates the model's performance on the training data using classification metrics such as accuracy, precision, and recall, followed by displaying the confusion matrix.\n"
   ]
  },
  {
   "cell_type": "code",
   "execution_count": 60,
   "id": "6293d247-4d1e-4c55-bfa8-850b525ff040",
   "metadata": {},
   "outputs": [
    {
     "name": "stdout",
     "output_type": "stream",
     "text": [
      "Training Data Evaluation:\n",
      "              precision    recall  f1-score   support\n",
      "\n",
      "       False       0.97      1.00      0.98     15054\n",
      "        True       0.87      0.33      0.48       776\n",
      "\n",
      "    accuracy                           0.96     15830\n",
      "   macro avg       0.92      0.66      0.73     15830\n",
      "weighted avg       0.96      0.96      0.96     15830\n",
      "\n",
      "[[15017    37]\n",
      " [  520   256]]\n"
     ]
    }
   ],
   "source": [
    "if y_train is not None:\n",
    "    print(\"Training Data Evaluation:\")\n",
    "    print(classification_report(y_train, train['predicted_anomaly']))\n",
    "    print(confusion_matrix(y_train, train['predicted_anomaly']))"
   ]
  },
  {
   "cell_type": "markdown",
   "id": "432784f6-c71f-44e9-8a72-ad56ebec68c8",
   "metadata": {},
   "source": [
    "# 7. Evaluate the Model on Testing Data\n",
    "This block evaluates the model's performance on the test data, using the same classification metrics as for the training data, to understand its generalization ability.\n"
   ]
  },
  {
   "cell_type": "code",
   "execution_count": 15,
   "id": "44860900-6d42-4722-9673-e954fad4d8cf",
   "metadata": {},
   "outputs": [],
   "source": [
    "if y_test is not None:\n",
    "    print(\"Testing Data Evaluation:\")\n",
    "    print(classification_report(y_test, test['predicted_anomaly']))\n",
    "    print(confusion_matrix(y_test, test['predicted_anomaly']))"
   ]
  },
  {
   "cell_type": "markdown",
   "id": "793d3009-deee-40fd-ab5c-47a112014d4f",
   "metadata": {},
   "source": [
    "# 8. Visualize Predicted Anomalies\n",
    "In this section, a scatter plot is generated to visualize the predicted anomalies in the training data. Anomalies are marked in red, and non-anomalies in blue. The mean value is also plotted as a reference.\n"
   ]
  },
  {
   "cell_type": "code",
   "execution_count": 44,
   "id": "371e554f-1001-4558-ad82-ccfceded3cdf",
   "metadata": {
    "scrolled": true
   },
   "outputs": [
    {
     "data": {
      "image/png": "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",
      "text/plain": [
       "<Figure size 640x480 with 1 Axes>"
      ]
     },
     "metadata": {},
     "output_type": "display_data"
    }
   ],
   "source": [
    "colors = ['red' if x else 'blue' for x in train['predicted_anomaly']]\n",
    "plt.scatter(range(len(train)), train['value'], c=colors, label='Predicted Anomalies')\n",
    "plt.axhline(y=train['value'].mean(), color='green', linestyle='--', label='Mean Value')\n",
    "plt.legend()\n",
    "plt.show()"
   ]
  },
  {
   "cell_type": "markdown",
   "id": "cd571c75-06b7-4313-8d0c-d3e7658df2b0",
   "metadata": {},
   "source": [
    "# DBSCAN for Anomaly Detection\n",
    "This notebook demonstrates how to use DBSCAN (Density-Based Spatial Clustering of Applications with Noise) for anomaly detection in a timestamp-based dataset. We will load the data, preprocess it, apply DBSCAN for clustering, and evaluate its performance.\n",
    "\n",
    "### Steps Covered:\n",
    "- **Loading and Preprocessing the Data**: Load the dataset and prepare it for analysis by converting timestamps and setting the datetime index.\n",
    "- **Feature Scaling**: Normalize the features to bring them to a common scale using `StandardScaler`.\n",
    "- **Clustering with DBSCAN**: Apply DBSCAN to identify clusters and anomalies.\n",
    "- **Making Predictions**: Use the DBSCAN clustering result to mark anomalies.\n",
    "- **Evaluating the Model**: Assess model performance using metrics like accuracy, precision, recall, and F1 score, where available.\n",
    "- **Visualizing the Results**: Visualize the predicted anomalies on the data using a scatter plot and highlight anomalies with distinct colors.\n"
   ]
  },
  {
   "cell_type": "markdown",
   "id": "99449721-9674-4c8a-bb5c-1b8cc5c3ad4a",
   "metadata": {},
   "source": [
    "# 1. Load and Preprocess the Training and Testing Data\n",
    "This block reads the CSV files for the training and test datasets, converts timestamps into datetime objects, and sets the datetime as the index for time series analysis.\n"
   ]
  },
  {
   "cell_type": "code",
   "execution_count": 25,
   "id": "63630b07-e1fb-48cc-81c1-fb3f48952d3d",
   "metadata": {},
   "outputs": [],
   "source": [
    "import pandas as pd\n",
    "import numpy as np\n",
    "import matplotlib.pyplot as plt\n",
    "from sklearn.cluster import DBSCAN\n",
    "from sklearn.preprocessing import StandardScaler\n",
    "from sklearn.metrics import classification_report, confusion_matrix, accuracy_score"
   ]
  },
  {
   "cell_type": "code",
   "execution_count": 26,
   "id": "d70ea87c-9330-49d9-bcdc-fe0d4a8a6e70",
   "metadata": {},
   "outputs": [],
   "source": [
    "train = pd.read_csv('data/train.csv')\n",
    "train['datetime'] = pd.to_datetime(train['timestamp'], unit='s')\n",
    "train.set_index('datetime', inplace=True)\n",
    "test = pd.read_csv('data/test.csv')\n",
    "test['datetime'] = pd.to_datetime(test['timestamp'], unit='s')\n",
    "test.set_index('datetime', inplace=True)\n"
   ]
  },
  {
   "cell_type": "markdown",
   "id": "2dc778f0-ad6e-4c07-a814-5eb46729984f",
   "metadata": {},
   "source": [
    "# 2. Scale the Features for Model Training\n",
    "Here, the `StandardScaler` is applied to the features ('value') to normalize the data. Scaling is necessary because DBSCAN is sensitive to the scale of data.\n"
   ]
  },
  {
   "cell_type": "code",
   "execution_count": 27,
   "id": "caeb4024-1461-481b-bb0f-b3d90f9aaa62",
   "metadata": {},
   "outputs": [],
   "source": [
    "scaler = StandardScaler()\n",
    "X_train = scaler.fit_transform(train[['value']])\n",
    "X_test = scaler.transform(test[['value']])\n"
   ]
  },
  {
   "cell_type": "markdown",
   "id": "45564578-ef79-46e8-b94d-b4816dd00224",
   "metadata": {},
   "source": [
    "# 3. Train the DBSCAN Clustering Model\n",
    "This section initializes the `DBSCAN` clustering algorithm with a specified `eps` value (maximum distance between two samples for them to be considered in the same neighborhood) and `min_samples` (the number of samples in a neighborhood to form a cluster).\n"
   ]
  },
  {
   "cell_type": "code",
   "execution_count": 28,
   "id": "4e25d71b-4f3b-4ca7-b363-ac4208e86c22",
   "metadata": {},
   "outputs": [],
   "source": [
    "dbscan = DBSCAN(eps=0.5, min_samples=5)\n",
    "train['cluster'] = dbscan.fit_predict(X_train)"
   ]
  },
  {
   "cell_type": "markdown",
   "id": "7b5a7152-a619-4a28-be3e-7b6f0b69ff58",
   "metadata": {},
   "source": [
    "# 4. Predict Anomalies Based on DBSCAN Clusters\n",
    "Here, the anomalies are identified as data points in the `train` and `test` datasets that belong to the noise cluster (cluster label -1). These points are marked as anomalies (1), and others as normal (0).\n"
   ]
  },
  {
   "cell_type": "code",
   "execution_count": 29,
   "id": "12bc4872-3f25-4aec-ac0d-dc92ae0cc031",
   "metadata": {},
   "outputs": [],
   "source": [
    "train['predicted_anomaly'] = (train['cluster'] == -1).astype(int)\n",
    "test['cluster'] = dbscan.fit_predict(X_test)\n",
    "test['predicted_anomaly'] = (test['cluster'] == -1).astype(int)"
   ]
  },
  {
   "cell_type": "markdown",
   "id": "87b6f4c0-80ad-424f-9b5f-877d583c687a",
   "metadata": {},
   "source": [
    "# 5. Evaluate the Model on Training Data\n",
    "This block evaluates the performance of the DBSCAN clustering model on the training data using classification metrics such as accuracy, precision, recall, and confusion matrix, if the target anomaly column exists.\n"
   ]
  },
  {
   "cell_type": "code",
   "execution_count": 93,
   "id": "3257fd29-feda-424d-a3cb-84ee13b7c168",
   "metadata": {},
   "outputs": [
    {
     "name": "stdout",
     "output_type": "stream",
     "text": [
      "Training Data\n",
      "              precision    recall  f1-score   support\n",
      "\n",
      "       False       0.97      1.00      0.98     15054\n",
      "        True       0.87      0.33      0.48       776\n",
      "\n",
      "    accuracy                           0.96     15830\n",
      "   macro avg       0.92      0.66      0.73     15830\n",
      "weighted avg       0.96      0.96      0.96     15830\n",
      "\n",
      "[[15017    37]\n",
      " [  520   256]]\n"
     ]
    }
   ],
   "source": [
    "if 'is_anomaly' in train.columns:\n",
    "    print(\"Training Data\")\n",
    "    print(classification_report(train['is_anomaly'], train['predicted_anomaly']))\n",
    "    print(confusion_matrix(train['is_anomaly'], train['predicted_anomaly']))"
   ]
  },
  {
   "cell_type": "markdown",
   "id": "01e3c4bd-249a-4052-ab80-30bcc71e6a64",
   "metadata": {},
   "source": [
    "# 6. Evaluate the Model on Testing Data\n",
    "This section evaluates the performance of the model on the test data using the same classification metrics as for the training data, provided the target anomaly column is available.\n"
   ]
  },
  {
   "cell_type": "code",
   "execution_count": 31,
   "id": "19040f71-2f49-44c9-976e-40008832ea19",
   "metadata": {},
   "outputs": [],
   "source": [
    "if 'is_anomaly' in test.columns:\n",
    "    print(\"Testing Data\")\n",
    "    print(classification_report(test['is_anomaly'], test['predicted_anomaly']))\n",
    "    print(confusion_matrix(test['is_anomaly'], test['predicted_anomaly']))"
   ]
  },
  {
   "cell_type": "markdown",
   "id": "86ca2a62-4af5-4680-9edb-73255df36eb1",
   "metadata": {},
   "source": [
    "# 7. Visualize Predicted Anomalies\n",
    "In this block, a scatter plot is generated to visualize the predicted anomalies in the training data. Anomalies are marked in red, and non-anomalies in blue. The mean value is also plotted as a reference.\n"
   ]
  },
  {
   "cell_type": "code",
   "execution_count": 39,
   "id": "19136121-e252-464e-9f13-7f978c3d1e6c",
   "metadata": {},
   "outputs": [
    {
     "data": {
      "image/png": "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",
      "text/plain": [
       "<Figure size 640x480 with 1 Axes>"
      ]
     },
     "metadata": {},
     "output_type": "display_data"
    }
   ],
   "source": [
    "colors = ['red' if x else 'blue' for x in train['predicted_anomaly']]\n",
    "plt.scatter(range(len(train)), train['value'], c=colors, label='Predicted Anomalies')\n",
    "plt.axhline(y=train['value'].mean(), color='green', linestyle='--', label='Mean Value')\n",
    "plt.legend()\n",
    "plt.show()"
   ]
  },
  {
   "cell_type": "markdown",
   "id": "4c5edfd4-678c-4d5b-9dbb-43c9c9da3fbd",
   "metadata": {},
   "source": [
    "### Model Performance Comparison\n",
    "\n",
    "The **Random Forest Classifier** and **DBSCAN** models were evaluated on the training data. Here are the key metrics:\n",
    "\n",
    "- **Random Forest Classifier**:\n",
    "  - Accuracy: **0.95**\n",
    "  - Precision (True): **1.00**\n",
    "  - Recall (True): **0.03**\n",
    "  - F1-Score (True): **0.07**\n",
    "\n",
    "- **DBSCAN**:\n",
    "  - Accuracy: **0.96**\n",
    "  - Precision (True): **0.87**\n",
    "  - Recall (True): **0.33**\n",
    "  - F1-Score (True): **0.48**\n",
    "\n",
    "### Conclusion\n",
    "The **DBSCAN** model slightly outperformed the Random Forest Classifier with a higher recall (0.33 vs. 0.03) and F1-score (0.48 vs. 0.07) for anomalies (`True` cases). While Random Forest had a higher precision for anomalies, DBSCAN demonstrated better balanced performance and is recommended for this dataset.\n"
   ]
  }
 ],
 "metadata": {
  "kernelspec": {
   "display_name": "Python 3 (ipykernel)",
   "language": "python",
   "name": "python3"
  },
  "language_info": {
   "codemirror_mode": {
    "name": "ipython",
    "version": 3
   },
   "file_extension": ".py",
   "mimetype": "text/x-python",
   "name": "python",
   "nbconvert_exporter": "python",
   "pygments_lexer": "ipython3",
   "version": "3.11.2"
  }
 },
 "nbformat": 4,
 "nbformat_minor": 5
}
